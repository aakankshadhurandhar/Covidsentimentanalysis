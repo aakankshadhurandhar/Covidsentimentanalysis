{
 "cells": [
  {
   "cell_type": "code",
   "execution_count": 1,
   "metadata": {},
   "outputs": [],
   "source": [
    "import tweepy as tw\n",
    "import re\n",
    "from textblob import TextBlob\n",
    "import os\n",
    "import pandas as pd\n",
    "import matplotlib.pyplot as plt\n",
    "import itertools\n",
    "import collections\n",
    "import nltk\n",
    "from nltk.corpus import stopwords"
   ]
  },
  {
   "cell_type": "code",
   "execution_count": 2,
   "metadata": {},
   "outputs": [],
   "source": [
    "#Add your credentials here\n",
    "\n",
    "twitter_keys = {\n",
    "        'consumer_key':        'rIMuOQwQmrSxxabhKT67iEHxd',\n",
    "        'consumer_secret':     'TShtHCmagArIvGiMqfzXvUdZHmL5x6KvhsgwNjITDV3Qsbbh6z',\n",
    "        'access_token_key':    '1269997986345607170-79CUm9ZezYSvrNau0dk50txPyhR1Hz',\n",
    "        'access_token_secret': 'Q1FgkiiNW0i0CxGQcz7biSLe3QLSqw6yaVMhcmSmXLnUd'\n",
    "    }\n",
    "\n",
    "\n",
    "\n",
    "#Setup access to API\n",
    "auth = tw.OAuthHandler(twitter_keys['consumer_key'], twitter_keys['consumer_secret'])\n",
    "auth.set_access_token(twitter_keys['access_token_key'], twitter_keys['access_token_secret'])\n",
    "api = tw.API(auth, wait_on_rate_limit=True)\n",
    "\n"
   ]
  },
  {
   "cell_type": "code",
   "execution_count": 3,
   "metadata": {},
   "outputs": [],
   "source": [
    "### collecting and cleaning 1000 tweets on covid\n",
    "def remove_url(txt):\n",
    "    \n",
    "    return \" \".join(re.sub(\"([^0-9A-Za-z \\t])|(\\w+:\\/\\/\\S+)\", \"\", txt).split())\n",
    "\n",
    "# Create a custom search term and define the number of tweets\n",
    "search_term = \"##COVID19India OR #COVIDUpdates OR #covidindia OR covid19 OR #coronavirus OR␣,→coronavirus -filter:retweets\"\n",
    "           \n",
    "    \n",
    "    \n",
    "tweets = tw.Cursor(api.search,\n",
    "q=search_term,\n",
    "lang=\"en\",\n",
    "since='2020-05-27').items(2000)\n",
    "# Remove URLs\n",
    "tweets_no_urls = [remove_url(tweet.text) for tweet in tweets]"
   ]
  },
  {
   "cell_type": "code",
   "execution_count": 4,
   "metadata": {},
   "outputs": [
    {
     "data": {
      "text/plain": [
       "2000"
      ]
     },
     "execution_count": 4,
     "metadata": {},
     "output_type": "execute_result"
    }
   ],
   "source": [
    "len(tweets_no_urls)"
   ]
  },
  {
   "cell_type": "code",
   "execution_count": 5,
   "metadata": {},
   "outputs": [
    {
     "data": {
      "text/plain": [
       "list"
      ]
     },
     "execution_count": 5,
     "metadata": {},
     "output_type": "execute_result"
    }
   ],
   "source": [
    "type(tweets_no_urls)"
   ]
  },
  {
   "cell_type": "code",
   "execution_count": 6,
   "metadata": {},
   "outputs": [
    {
     "data": {
      "text/plain": [
       "(0.4,\n",
       " TextBlob(\"Blood type turns out not to be an important risk factor in being infected w coronavirus or getting severe\"))"
      ]
     },
     "execution_count": 6,
     "metadata": {},
     "output_type": "execute_result"
    }
   ],
   "source": [
    " # Create textblob objects of the collected tweets\n",
    "sentiment_objects = [TextBlob(tweet) for tweet in tweets_no_urls]\n",
    "sentiment_objects[1].polarity, sentiment_objects[1]"
   ]
  },
  {
   "cell_type": "code",
   "execution_count": 7,
   "metadata": {},
   "outputs": [
    {
     "data": {
      "text/plain": [
       "[0.0,\n",
       " 'Mask or no mask This website lets you track mask policies at your local businesses']"
      ]
     },
     "execution_count": 7,
     "metadata": {},
     "output_type": "execute_result"
    }
   ],
   "source": [
    "# Create list of polarity values and tweet texts\n",
    "sentiment_values = [[tweet.sentiment.polarity, str(tweet)] for tweet in sentiment_objects]\n",
    "\n",
    "sentiment_values[0]"
   ]
  },
  {
   "cell_type": "code",
   "execution_count": 8,
   "metadata": {},
   "outputs": [
    {
     "data": {
      "text/html": [
       "<div>\n",
       "<style scoped>\n",
       "    .dataframe tbody tr th:only-of-type {\n",
       "        vertical-align: middle;\n",
       "    }\n",
       "\n",
       "    .dataframe tbody tr th {\n",
       "        vertical-align: top;\n",
       "    }\n",
       "\n",
       "    .dataframe thead th {\n",
       "        text-align: right;\n",
       "    }\n",
       "</style>\n",
       "<table border=\"1\" class=\"dataframe\">\n",
       "  <thead>\n",
       "    <tr style=\"text-align: right;\">\n",
       "      <th></th>\n",
       "      <th>polarity_score</th>\n",
       "      <th>tweet</th>\n",
       "    </tr>\n",
       "  </thead>\n",
       "  <tbody>\n",
       "    <tr>\n",
       "      <th>0</th>\n",
       "      <td>0.000000</td>\n",
       "      <td>Mask or no mask This website lets you track ma...</td>\n",
       "    </tr>\n",
       "    <tr>\n",
       "      <th>1</th>\n",
       "      <td>0.400000</td>\n",
       "      <td>Blood type turns out not to be an important ri...</td>\n",
       "    </tr>\n",
       "    <tr>\n",
       "      <th>2</th>\n",
       "      <td>0.136364</td>\n",
       "      <td>When the spirit of the Lord KNex amp touches y...</td>\n",
       "    </tr>\n",
       "    <tr>\n",
       "      <th>3</th>\n",
       "      <td>-0.800000</td>\n",
       "      <td>How about GOP realDonaldTrump amp TrumpDirtyBi...</td>\n",
       "    </tr>\n",
       "    <tr>\n",
       "      <th>4</th>\n",
       "      <td>-0.125000</td>\n",
       "      <td>Community Testing Site in Granite City for Jul...</td>\n",
       "    </tr>\n",
       "    <tr>\n",
       "      <th>5</th>\n",
       "      <td>0.000000</td>\n",
       "      <td>When someone has coronavirus inside your house...</td>\n",
       "    </tr>\n",
       "    <tr>\n",
       "      <th>6</th>\n",
       "      <td>0.525000</td>\n",
       "      <td>Can i purchase a laptop in 25000 For study1i3 ...</td>\n",
       "    </tr>\n",
       "    <tr>\n",
       "      <th>7</th>\n",
       "      <td>-0.075000</td>\n",
       "      <td>The White House Really Doesnt Want You to Know...</td>\n",
       "    </tr>\n",
       "    <tr>\n",
       "      <th>8</th>\n",
       "      <td>0.000000</td>\n",
       "      <td>Personality traits explain whether you follow ...</td>\n",
       "    </tr>\n",
       "    <tr>\n",
       "      <th>9</th>\n",
       "      <td>0.000000</td>\n",
       "      <td>realDonaldTrump Hey DummyTrump or is it Donald...</td>\n",
       "    </tr>\n",
       "  </tbody>\n",
       "</table>\n",
       "</div>"
      ],
      "text/plain": [
       "   polarity_score                                              tweet\n",
       "0        0.000000  Mask or no mask This website lets you track ma...\n",
       "1        0.400000  Blood type turns out not to be an important ri...\n",
       "2        0.136364  When the spirit of the Lord KNex amp touches y...\n",
       "3       -0.800000  How about GOP realDonaldTrump amp TrumpDirtyBi...\n",
       "4       -0.125000  Community Testing Site in Granite City for Jul...\n",
       "5        0.000000  When someone has coronavirus inside your house...\n",
       "6        0.525000  Can i purchase a laptop in 25000 For study1i3 ...\n",
       "7       -0.075000  The White House Really Doesnt Want You to Know...\n",
       "8        0.000000  Personality traits explain whether you follow ...\n",
       "9        0.000000  realDonaldTrump Hey DummyTrump or is it Donald..."
      ]
     },
     "execution_count": 8,
     "metadata": {},
     "output_type": "execute_result"
    }
   ],
   "source": [
    "# Create dataframe containing the polarity value and tweet text\n",
    "sentiment_df = pd.DataFrame(sentiment_values, columns=[\"polarity_score\",\"tweet\"])\n",
    "\n",
    "sentiment_df.head(10)"
   ]
  },
  {
   "cell_type": "code",
   "execution_count": 9,
   "metadata": {},
   "outputs": [
    {
     "data": {
      "image/png": "[encoded data removed]",
      "text/plain": [
       "<Figure size 720x432 with 1 Axes>"
      ]
     },
     "metadata": {
      "needs_background": "light"
     },
     "output_type": "display_data"
    }
   ],
   "source": [
    "## Histogram of tweet sentiments\n",
    "import numpy as np\n",
    "bin_range = np.arange(-1, 1, 0.1)\n",
    "fig, ax = plt.subplots(figsize=(10, 6))\n",
    "# Plot histogram of the polarity values\n",
    "sentiment_df.hist(bins=bin_range,\n",
    "ax=ax,\n",
    "color=\"blue\")\n",
    "plt.xlim(-1, 1)\n",
    "plt.title(\"Sentiments from 2000 recent tweets on covid19\")\n",
    "plt.show()"
   ]
  },
  {
   "cell_type": "code",
   "execution_count": 10,
   "metadata": {},
   "outputs": [
    {
     "data": {
      "image/png": "[encoded data removed]",
      "text/plain": [
       "<Figure size 720x432 with 1 Axes>"
      ]
     },
     "metadata": {
      "needs_background": "light"
     },
     "output_type": "display_data"
    }
   ],
   "source": [
    "# Remove polarity values which equal to zero to get more valuable distribution\n",
    "sentiment_df_nz = sentiment_df[sentiment_df.polarity_score != 0]\n",
    "fig, ax = plt.subplots(figsize=(10, 6))\n",
    "# Plot histogram with break at zero\n",
    "sentiment_df_nz.hist(bins=bin_range,\n",
    "ax=ax,\n",
    "color=\"blue\")\n",
    "plt.xlim(-1, 1)\n",
    "plt.title(\"Sentiments from 2000 recent tweets on covid-19\")\n",
    "plt.show()"
   ]
  },
  {
   "cell_type": "code",
   "execution_count": 11,
   "metadata": {},
   "outputs": [
    {
     "data": {
      "text/html": [
       "<div>\n",
       "<style scoped>\n",
       "    .dataframe tbody tr th:only-of-type {\n",
       "        vertical-align: middle;\n",
       "    }\n",
       "\n",
       "    .dataframe tbody tr th {\n",
       "        vertical-align: top;\n",
       "    }\n",
       "\n",
       "    .dataframe thead th {\n",
       "        text-align: right;\n",
       "    }\n",
       "</style>\n",
       "<table border=\"1\" class=\"dataframe\">\n",
       "  <thead>\n",
       "    <tr style=\"text-align: right;\">\n",
       "      <th></th>\n",
       "      <th>polarity_score</th>\n",
       "      <th>tweet</th>\n",
       "    </tr>\n",
       "  </thead>\n",
       "  <tbody>\n",
       "    <tr>\n",
       "      <th>250</th>\n",
       "      <td>1.0</td>\n",
       "      <td>No one is perfect or does nothing wrongLife is...</td>\n",
       "    </tr>\n",
       "    <tr>\n",
       "      <th>1599</th>\n",
       "      <td>1.0</td>\n",
       "      <td>If you Need an awesome wordpress website for y...</td>\n",
       "    </tr>\n",
       "    <tr>\n",
       "      <th>515</th>\n",
       "      <td>1.0</td>\n",
       "      <td>Whats the greatest health risk in coronavirus ...</td>\n",
       "    </tr>\n",
       "    <tr>\n",
       "      <th>821</th>\n",
       "      <td>1.0</td>\n",
       "      <td>If you think the Govt has done their best in t...</td>\n",
       "    </tr>\n",
       "    <tr>\n",
       "      <th>27</th>\n",
       "      <td>0.8</td>\n",
       "      <td>Maybe you dont have time to read or listen to ...</td>\n",
       "    </tr>\n",
       "    <tr>\n",
       "      <th>1361</th>\n",
       "      <td>0.8</td>\n",
       "      <td>Plexiglass Breath Shields are a great way to r...</td>\n",
       "    </tr>\n",
       "    <tr>\n",
       "      <th>1289</th>\n",
       "      <td>0.8</td>\n",
       "      <td>thewheel5950 gardennome1 Barney02034733 roccog...</td>\n",
       "    </tr>\n",
       "    <tr>\n",
       "      <th>1400</th>\n",
       "      <td>0.8</td>\n",
       "      <td>Have you had COVID19 and havent experienced sy...</td>\n",
       "    </tr>\n",
       "    <tr>\n",
       "      <th>885</th>\n",
       "      <td>0.8</td>\n",
       "      <td>Great info about zinc Covid19Your immune syste...</td>\n",
       "    </tr>\n",
       "    <tr>\n",
       "      <th>1461</th>\n",
       "      <td>0.8</td>\n",
       "      <td>We can look at the data that we have and with ...</td>\n",
       "    </tr>\n",
       "    <tr>\n",
       "      <th>1318</th>\n",
       "      <td>0.8</td>\n",
       "      <td>So RahulGandhi Happy na The number for coronav...</td>\n",
       "    </tr>\n",
       "    <tr>\n",
       "      <th>787</th>\n",
       "      <td>0.8</td>\n",
       "      <td>realDonaldTrump TTuberville DougJones TTubervi...</td>\n",
       "    </tr>\n",
       "    <tr>\n",
       "      <th>777</th>\n",
       "      <td>0.8</td>\n",
       "      <td>How about groutcleaning services with your hom...</td>\n",
       "    </tr>\n",
       "    <tr>\n",
       "      <th>1510</th>\n",
       "      <td>0.7</td>\n",
       "      <td>Either it is a refusal to admit mistakes or it...</td>\n",
       "    </tr>\n",
       "    <tr>\n",
       "      <th>1131</th>\n",
       "      <td>0.7</td>\n",
       "      <td>GOOD CALL NYGovCuomo Coronavirus Travel Adviso...</td>\n",
       "    </tr>\n",
       "    <tr>\n",
       "      <th>425</th>\n",
       "      <td>0.7</td>\n",
       "      <td>sallybish mmaher70 Fair point I know two peopl...</td>\n",
       "    </tr>\n",
       "    <tr>\n",
       "      <th>1166</th>\n",
       "      <td>0.7</td>\n",
       "      <td>Obsession Or Just Good Hygiene Keeping The Cor...</td>\n",
       "    </tr>\n",
       "    <tr>\n",
       "      <th>1532</th>\n",
       "      <td>0.7</td>\n",
       "      <td>Good question candicebroce answer Without usin...</td>\n",
       "    </tr>\n",
       "    <tr>\n",
       "      <th>753</th>\n",
       "      <td>0.7</td>\n",
       "      <td>Do you have an inhome caregiver for yourself o...</td>\n",
       "    </tr>\n",
       "    <tr>\n",
       "      <th>346</th>\n",
       "      <td>0.7</td>\n",
       "      <td>You can protect yourself and your loved ones f...</td>\n",
       "    </tr>\n",
       "  </tbody>\n",
       "</table>\n",
       "</div>"
      ],
      "text/plain": [
       "      polarity_score                                              tweet\n",
       "250              1.0  No one is perfect or does nothing wrongLife is...\n",
       "1599             1.0  If you Need an awesome wordpress website for y...\n",
       "515              1.0  Whats the greatest health risk in coronavirus ...\n",
       "821              1.0  If you think the Govt has done their best in t...\n",
       "27               0.8  Maybe you dont have time to read or listen to ...\n",
       "1361             0.8  Plexiglass Breath Shields are a great way to r...\n",
       "1289             0.8  thewheel5950 gardennome1 Barney02034733 roccog...\n",
       "1400             0.8  Have you had COVID19 and havent experienced sy...\n",
       "885              0.8  Great info about zinc Covid19Your immune syste...\n",
       "1461             0.8  We can look at the data that we have and with ...\n",
       "1318             0.8  So RahulGandhi Happy na The number for coronav...\n",
       "787              0.8  realDonaldTrump TTuberville DougJones TTubervi...\n",
       "777              0.8  How about groutcleaning services with your hom...\n",
       "1510             0.7  Either it is a refusal to admit mistakes or it...\n",
       "1131             0.7  GOOD CALL NYGovCuomo Coronavirus Travel Adviso...\n",
       "425              0.7  sallybish mmaher70 Fair point I know two peopl...\n",
       "1166             0.7  Obsession Or Just Good Hygiene Keeping The Cor...\n",
       "1532             0.7  Good question candicebroce answer Without usin...\n",
       "753              0.7  Do you have an inhome caregiver for yourself o...\n",
       "346              0.7  You can protect yourself and your loved ones f..."
      ]
     },
     "execution_count": 11,
     "metadata": {},
     "output_type": "execute_result"
    }
   ],
   "source": [
    "## 10 most positive tweets about covid-19\n",
    "sentiment_df_nz_sorted = sentiment_df_nz.sort_values('polarity_score',ascending=False)\n",
    "##pd.set_option('display.max_colwidth', None)\n",
    "sentiment_df_nz_sorted.head(20)"
   ]
  },
  {
   "cell_type": "code",
   "execution_count": 12,
   "metadata": {},
   "outputs": [
    {
     "data": {
      "text/html": [
       "<div>\n",
       "<style scoped>\n",
       "    .dataframe tbody tr th:only-of-type {\n",
       "        vertical-align: middle;\n",
       "    }\n",
       "\n",
       "    .dataframe tbody tr th {\n",
       "        vertical-align: top;\n",
       "    }\n",
       "\n",
       "    .dataframe thead th {\n",
       "        text-align: right;\n",
       "    }\n",
       "</style>\n",
       "<table border=\"1\" class=\"dataframe\">\n",
       "  <thead>\n",
       "    <tr style=\"text-align: right;\">\n",
       "      <th></th>\n",
       "      <th>polarity_score</th>\n",
       "      <th>tweet</th>\n",
       "    </tr>\n",
       "  </thead>\n",
       "  <tbody>\n",
       "    <tr>\n",
       "      <th>1983</th>\n",
       "      <td>-0.8</td>\n",
       "      <td>PresidentDeath exposes hundreds of thousands o...</td>\n",
       "    </tr>\n",
       "    <tr>\n",
       "      <th>3</th>\n",
       "      <td>-0.8</td>\n",
       "      <td>How about GOP realDonaldTrump amp TrumpDirtyBi...</td>\n",
       "    </tr>\n",
       "    <tr>\n",
       "      <th>470</th>\n",
       "      <td>-0.8</td>\n",
       "      <td>coronavirus mortality rate rank in cases Natio...</td>\n",
       "    </tr>\n",
       "    <tr>\n",
       "      <th>1317</th>\n",
       "      <td>-0.8</td>\n",
       "      <td>As we suspected its a lie a hoax or the worst ...</td>\n",
       "    </tr>\n",
       "    <tr>\n",
       "      <th>1923</th>\n",
       "      <td>-0.8</td>\n",
       "      <td>coronavirus mortality rate rank in cases Natio...</td>\n",
       "    </tr>\n",
       "    <tr>\n",
       "      <th>510</th>\n",
       "      <td>-1.0</td>\n",
       "      <td>danielsgoldman Dr Redfield CDCDirector needs t...</td>\n",
       "    </tr>\n",
       "    <tr>\n",
       "      <th>679</th>\n",
       "      <td>-1.0</td>\n",
       "      <td>Being a parent during COVID19 is terrifying Is...</td>\n",
       "    </tr>\n",
       "    <tr>\n",
       "      <th>1964</th>\n",
       "      <td>-1.0</td>\n",
       "      <td>China has just contained the coronavirus now i...</td>\n",
       "    </tr>\n",
       "    <tr>\n",
       "      <th>793</th>\n",
       "      <td>-1.0</td>\n",
       "      <td>Beach time before coronavirus starts its shift...</td>\n",
       "    </tr>\n",
       "    <tr>\n",
       "      <th>317</th>\n",
       "      <td>-1.0</td>\n",
       "      <td>There are almost 140000 deaths in the UnitedSt...</td>\n",
       "    </tr>\n",
       "  </tbody>\n",
       "</table>\n",
       "</div>"
      ],
      "text/plain": [
       "      polarity_score                                              tweet\n",
       "1983            -0.8  PresidentDeath exposes hundreds of thousands o...\n",
       "3               -0.8  How about GOP realDonaldTrump amp TrumpDirtyBi...\n",
       "470             -0.8  coronavirus mortality rate rank in cases Natio...\n",
       "1317            -0.8  As we suspected its a lie a hoax or the worst ...\n",
       "1923            -0.8  coronavirus mortality rate rank in cases Natio...\n",
       "510             -1.0  danielsgoldman Dr Redfield CDCDirector needs t...\n",
       "679             -1.0  Being a parent during COVID19 is terrifying Is...\n",
       "1964            -1.0  China has just contained the coronavirus now i...\n",
       "793             -1.0  Beach time before coronavirus starts its shift...\n",
       "317             -1.0  There are almost 140000 deaths in the UnitedSt..."
      ]
     },
     "execution_count": 12,
     "metadata": {},
     "output_type": "execute_result"
    }
   ],
   "source": [
    "## 10 most negative tweets about covid-19\n",
    "\n",
    "sentiment_df_nz_sorted.tail(10)"
   ]
  },
  {
   "cell_type": "code",
   "execution_count": 13,
   "metadata": {},
   "outputs": [
    {
     "data": {
      "text/plain": [
       "[['mask',\n",
       "  'or',\n",
       "  'no',\n",
       "  'mask',\n",
       "  'this',\n",
       "  'website',\n",
       "  'lets',\n",
       "  'you',\n",
       "  'track',\n",
       "  'mask',\n",
       "  'policies',\n",
       "  'at',\n",
       "  'your',\n",
       "  'local',\n",
       "  'businesses'],\n",
       " ['blood',\n",
       "  'type',\n",
       "  'turns',\n",
       "  'out',\n",
       "  'not',\n",
       "  'to',\n",
       "  'be',\n",
       "  'an',\n",
       "  'important',\n",
       "  'risk',\n",
       "  'factor',\n",
       "  'in',\n",
       "  'being',\n",
       "  'infected',\n",
       "  'w',\n",
       "  'coronavirus',\n",
       "  'or',\n",
       "  'getting',\n",
       "  'severe']]"
      ]
     },
     "execution_count": 13,
     "metadata": {},
     "output_type": "execute_result"
    }
   ],
   "source": [
    "## making a list of lists with lower case words from each tweet\n",
    "lcase_words_tweets = [tweet.lower().split() for tweet in tweets_no_urls]\n",
    "lcase_words_tweets[:2]"
   ]
  },
  {
   "cell_type": "code",
   "execution_count": 14,
   "metadata": {},
   "outputs": [
    {
     "data": {
      "text/plain": [
       "[('the', 1247),\n",
       " ('or', 1080),\n",
       " ('to', 1032),\n",
       " ('a', 771),\n",
       " ('coronavirus', 753),\n",
       " ('of', 637),\n",
       " ('in', 531),\n",
       " ('you', 521),\n",
       " ('is', 461),\n",
       " ('and', 434)]"
      ]
     },
     "execution_count": 14,
     "metadata": {},
     "output_type": "execute_result"
    }
   ],
   "source": [
    "# Flattened list of all words across all tweets\n",
    "all_words_tweets = list(itertools.chain(*lcase_words_tweets))\n",
    "# Create counter\n",
    "counts_no_urls = collections.Counter(all_words_tweets)\n",
    "counts_no_urls.most_common(10)"
   ]
  },
  {
   "cell_type": "code",
   "execution_count": 15,
   "metadata": {},
   "outputs": [
    {
     "name": "stderr",
     "output_type": "stream",
     "text": [
      "[nltk_data] Downloading package stopwords to\n",
      "[nltk_data]     /home/aakanksha/nltk_data...\n",
      "[nltk_data]   Package stopwords is already up-to-date!\n"
     ]
    },
    {
     "data": {
      "text/plain": [
       "{'a',\n",
       " 'about',\n",
       " 'above',\n",
       " 'after',\n",
       " 'again',\n",
       " 'against',\n",
       " 'ain',\n",
       " 'all',\n",
       " 'am',\n",
       " 'an',\n",
       " 'and',\n",
       " 'any',\n",
       " 'are',\n",
       " 'aren',\n",
       " \"aren't\",\n",
       " 'as',\n",
       " 'at',\n",
       " 'be',\n",
       " 'because',\n",
       " 'been',\n",
       " 'before',\n",
       " 'being',\n",
       " 'below',\n",
       " 'between',\n",
       " 'both',\n",
       " 'but',\n",
       " 'by',\n",
       " 'can',\n",
       " 'couldn',\n",
       " \"couldn't\",\n",
       " 'd',\n",
       " 'did',\n",
       " 'didn',\n",
       " \"didn't\",\n",
       " 'do',\n",
       " 'does',\n",
       " 'doesn',\n",
       " \"doesn't\",\n",
       " 'doing',\n",
       " 'don',\n",
       " \"don't\",\n",
       " 'down',\n",
       " 'during',\n",
       " 'each',\n",
       " 'few',\n",
       " 'for',\n",
       " 'from',\n",
       " 'further',\n",
       " 'had',\n",
       " 'hadn',\n",
       " \"hadn't\",\n",
       " 'has',\n",
       " 'hasn',\n",
       " \"hasn't\",\n",
       " 'have',\n",
       " 'haven',\n",
       " \"haven't\",\n",
       " 'having',\n",
       " 'he',\n",
       " 'her',\n",
       " 'here',\n",
       " 'hers',\n",
       " 'herself',\n",
       " 'him',\n",
       " 'himself',\n",
       " 'his',\n",
       " 'how',\n",
       " 'i',\n",
       " 'if',\n",
       " 'in',\n",
       " 'into',\n",
       " 'is',\n",
       " 'isn',\n",
       " \"isn't\",\n",
       " 'it',\n",
       " \"it's\",\n",
       " 'its',\n",
       " 'itself',\n",
       " 'just',\n",
       " 'll',\n",
       " 'm',\n",
       " 'ma',\n",
       " 'me',\n",
       " 'mightn',\n",
       " \"mightn't\",\n",
       " 'more',\n",
       " 'most',\n",
       " 'mustn',\n",
       " \"mustn't\",\n",
       " 'my',\n",
       " 'myself',\n",
       " 'needn',\n",
       " \"needn't\",\n",
       " 'no',\n",
       " 'nor',\n",
       " 'not',\n",
       " 'now',\n",
       " 'o',\n",
       " 'of',\n",
       " 'off',\n",
       " 'on',\n",
       " 'once',\n",
       " 'only',\n",
       " 'or',\n",
       " 'other',\n",
       " 'our',\n",
       " 'ours',\n",
       " 'ourselves',\n",
       " 'out',\n",
       " 'over',\n",
       " 'own',\n",
       " 're',\n",
       " 's',\n",
       " 'same',\n",
       " 'shan',\n",
       " \"shan't\",\n",
       " 'she',\n",
       " \"she's\",\n",
       " 'should',\n",
       " \"should've\",\n",
       " 'shouldn',\n",
       " \"shouldn't\",\n",
       " 'so',\n",
       " 'some',\n",
       " 'such',\n",
       " 't',\n",
       " 'than',\n",
       " 'that',\n",
       " \"that'll\",\n",
       " 'the',\n",
       " 'their',\n",
       " 'theirs',\n",
       " 'them',\n",
       " 'themselves',\n",
       " 'then',\n",
       " 'there',\n",
       " 'these',\n",
       " 'they',\n",
       " 'this',\n",
       " 'those',\n",
       " 'through',\n",
       " 'to',\n",
       " 'too',\n",
       " 'under',\n",
       " 'until',\n",
       " 'up',\n",
       " 've',\n",
       " 'very',\n",
       " 'was',\n",
       " 'wasn',\n",
       " \"wasn't\",\n",
       " 'we',\n",
       " 'were',\n",
       " 'weren',\n",
       " \"weren't\",\n",
       " 'what',\n",
       " 'when',\n",
       " 'where',\n",
       " 'which',\n",
       " 'while',\n",
       " 'who',\n",
       " 'whom',\n",
       " 'why',\n",
       " 'will',\n",
       " 'with',\n",
       " 'won',\n",
       " \"won't\",\n",
       " 'wouldn',\n",
       " \"wouldn't\",\n",
       " 'y',\n",
       " 'you',\n",
       " \"you'd\",\n",
       " \"you'll\",\n",
       " \"you're\",\n",
       " \"you've\",\n",
       " 'your',\n",
       " 'yours',\n",
       " 'yourself',\n",
       " 'yourselves'}"
      ]
     },
     "execution_count": 15,
     "metadata": {},
     "output_type": "execute_result"
    }
   ],
   "source": [
    "## downloading stop words library in order to filter out stop words, commonly used words like 'a' or 'the'\n",
    "nltk.download('stopwords')\n",
    "stop_words = set(stopwords.words('english'))\n",
    "stop_words"
   ]
  },
  {
   "cell_type": "code",
   "execution_count": 16,
   "metadata": {},
   "outputs": [
    {
     "data": {
      "text/plain": [
       "['blood',\n",
       " 'type',\n",
       " 'turns',\n",
       " 'important',\n",
       " 'risk',\n",
       " 'factor',\n",
       " 'infected',\n",
       " 'w',\n",
       " 'coronavirus',\n",
       " 'getting',\n",
       " 'severe']"
      ]
     },
     "execution_count": 16,
     "metadata": {},
     "output_type": "execute_result"
    }
   ],
   "source": [
    "# Remove stop words from each tweet list of words with nested list comprehension\n",
    "tweets_nsw = [[word for word in tweet_words if not word in stop_words]\n",
    "for tweet_words in lcase_words_tweets]\n",
    "tweets_nsw[1]"
   ]
  },
  {
   "cell_type": "code",
   "execution_count": 17,
   "metadata": {},
   "outputs": [
    {
     "data": {
      "text/plain": [
       "[('coronavirus', 753),\n",
       " ('covid19', 416),\n",
       " ('people', 197),\n",
       " ('amp', 135),\n",
       " ('mask', 107),\n",
       " ('trump', 97),\n",
       " ('dont', 90),\n",
       " ('new', 87),\n",
       " ('pandemic', 82),\n",
       " ('us', 82),\n",
       " ('masks', 80),\n",
       " ('like', 76),\n",
       " ('one', 76),\n",
       " ('due', 75),\n",
       " ('get', 72),\n",
       " ('would', 72),\n",
       " ('wear', 71),\n",
       " ('know', 70),\n",
       " ('realdonaldtrump', 66),\n",
       " ('cases', 63)]"
      ]
     },
     "execution_count": 17,
     "metadata": {},
     "output_type": "execute_result"
    }
   ],
   "source": [
    "# same counter of most common words now without stop words\n",
    "all_words_nsw = list(itertools.chain(*tweets_nsw))\n",
    "counts_nsw = collections.Counter(all_words_nsw)\n",
    "counts_nsw.most_common(20)"
   ]
  },
  {
   "cell_type": "code",
   "execution_count": 18,
   "metadata": {},
   "outputs": [],
   "source": [
    "## get rid of collection words which are skewing the frequency\n",
    "collection_words = ['covid19', 'covid 19', 'covid-19', 'covid', \"19\",\"coronavirus\", \"virus\", \"corona\", 'amp', '19', 'im']\n",
    "tweets_nsw_nc = [[w for w in word if not w in collection_words]\n",
    "for word in tweets_nsw]"
   ]
  },
  {
   "cell_type": "code",
   "execution_count": 19,
   "metadata": {},
   "outputs": [
    {
     "data": {
      "text/plain": [
       "[('people', 197),\n",
       " ('mask', 107),\n",
       " ('trump', 97),\n",
       " ('dont', 90),\n",
       " ('new', 87),\n",
       " ('pandemic', 82),\n",
       " ('us', 82),\n",
       " ('masks', 80),\n",
       " ('like', 76),\n",
       " ('one', 76),\n",
       " ('due', 75),\n",
       " ('get', 72),\n",
       " ('would', 72),\n",
       " ('wear', 71),\n",
       " ('know', 70),\n",
       " ('realdonaldtrump', 66),\n",
       " ('cases', 63),\n",
       " ('face', 62),\n",
       " ('testing', 57),\n",
       " ('could', 54)]"
      ]
     },
     "execution_count": 19,
     "metadata": {},
     "output_type": "execute_result"
    }
   ],
   "source": [
    "# Flatten list of words in cleaned tweets_nsw_nc\n",
    "all_words_nsw_nc = list(itertools.chain(*tweets_nsw_nc))\n",
    "# Create counter of words in clean tweets\n",
    "counts_nsw_nc = collections.Counter(all_words_nsw_nc)\n",
    "counts_nsw_nc.most_common(20)"
   ]
  },
  {
   "cell_type": "code",
   "execution_count": 20,
   "metadata": {},
   "outputs": [
    {
     "data": {
      "image/png": "[encoded data removed]",
      "text/plain": [
       "<Figure size 576x1440 with 1 Axes>"
      ]
     },
     "metadata": {
      "needs_background": "light"
     },
     "output_type": "display_data"
    }
   ],
   "source": [
    "# plotting the most frequent words\n",
    "all_words_nsw_nc_df = pd.DataFrame(counts_nsw_nc.most_common(30),\n",
    "columns=['words', 'count'])\n",
    "fig, ax = plt.subplots(figsize=(8, 20))\n",
    "# Plot horizontal bar graph\n",
    "all_words_nsw_nc_df.sort_values(by='count').plot.barh(x='words',\n",
    "y='count',\n",
    "ax=ax,\n",
    "color=\"blue\")\n",
    "ax.set_title(\"Most common Words Found in recent COVID-19 Tweets (Without Stop or Collection Words)\")\n",
    "plt.show()"
   ]
  },
  {
   "cell_type": "code",
   "execution_count": 21,
   "metadata": {},
   "outputs": [
    {
     "data": {
      "text/plain": [
       "[('blood', 'type'),\n",
       " ('type', 'turns'),\n",
       " ('turns', 'important'),\n",
       " ('important', 'risk'),\n",
       " ('risk', 'factor'),\n",
       " ('factor', 'infected'),\n",
       " ('infected', 'w'),\n",
       " ('w', 'getting'),\n",
       " ('getting', 'severe')]"
      ]
     },
     "execution_count": 21,
     "metadata": {},
     "output_type": "execute_result"
    }
   ],
   "source": [
    "import nltk\n",
    "from nltk import bigrams\n",
    "# Create list of lists containing bigrams (n-gram for n=2) in tweets\n",
    "terms_bigram = [list(bigrams(tweet)) for tweet in tweets_nsw_nc]\n",
    "# View bigrams for the first tweet\n",
    "terms_bigram[1]"
   ]
  },
  {
   "cell_type": "code",
   "execution_count": 22,
   "metadata": {},
   "outputs": [
    {
     "data": {
      "text/plain": [
       "[(('wear', 'mask'), 33),\n",
       " (('trump', 'administration'), 32),\n",
       " (('people', 'like'), 28),\n",
       " (('due', 'aka'), 26),\n",
       " (('like', 'retweet'), 26),\n",
       " (('sending', 'first'), 24),\n",
       " (('ill', 'sending'), 23),\n",
       " (('aka', 'ill'), 20),\n",
       " (('would', 'rather'), 19),\n",
       " (('wearing', 'mask'), 18)]"
      ]
     },
     "execution_count": 22,
     "metadata": {},
     "output_type": "execute_result"
    }
   ],
   "source": [
    "# Flatten list of bigrams in cleaned tweets tweets_nsw_nc\n",
    "bigrams = list(itertools.chain(*terms_bigram))\n",
    "# Create counter of words in clean bigrams to determine most common bigrams(pairs of sequential words)\n",
    "bigram_counts = collections.Counter(bigrams)\n",
    "bigram_counts.most_common(10)"
   ]
  },
  {
   "cell_type": "code",
   "execution_count": 23,
   "metadata": {},
   "outputs": [
    {
     "data": {
      "text/html": [
       "<div>\n",
       "<style scoped>\n",
       "    .dataframe tbody tr th:only-of-type {\n",
       "        vertical-align: middle;\n",
       "    }\n",
       "\n",
       "    .dataframe tbody tr th {\n",
       "        vertical-align: top;\n",
       "    }\n",
       "\n",
       "    .dataframe thead th {\n",
       "        text-align: right;\n",
       "    }\n",
       "</style>\n",
       "<table border=\"1\" class=\"dataframe\">\n",
       "  <thead>\n",
       "    <tr style=\"text-align: right;\">\n",
       "      <th></th>\n",
       "      <th>bigram</th>\n",
       "      <th>count</th>\n",
       "    </tr>\n",
       "  </thead>\n",
       "  <tbody>\n",
       "    <tr>\n",
       "      <th>0</th>\n",
       "      <td>(wear, mask)</td>\n",
       "      <td>33</td>\n",
       "    </tr>\n",
       "    <tr>\n",
       "      <th>1</th>\n",
       "      <td>(trump, administration)</td>\n",
       "      <td>32</td>\n",
       "    </tr>\n",
       "    <tr>\n",
       "      <th>2</th>\n",
       "      <td>(people, like)</td>\n",
       "      <td>28</td>\n",
       "    </tr>\n",
       "    <tr>\n",
       "      <th>3</th>\n",
       "      <td>(due, aka)</td>\n",
       "      <td>26</td>\n",
       "    </tr>\n",
       "    <tr>\n",
       "      <th>4</th>\n",
       "      <td>(like, retweet)</td>\n",
       "      <td>26</td>\n",
       "    </tr>\n",
       "    <tr>\n",
       "      <th>5</th>\n",
       "      <td>(sending, first)</td>\n",
       "      <td>24</td>\n",
       "    </tr>\n",
       "    <tr>\n",
       "      <th>6</th>\n",
       "      <td>(ill, sending)</td>\n",
       "      <td>23</td>\n",
       "    </tr>\n",
       "    <tr>\n",
       "      <th>7</th>\n",
       "      <td>(aka, ill)</td>\n",
       "      <td>20</td>\n",
       "    </tr>\n",
       "    <tr>\n",
       "      <th>8</th>\n",
       "      <td>(would, rather)</td>\n",
       "      <td>19</td>\n",
       "    </tr>\n",
       "    <tr>\n",
       "      <th>9</th>\n",
       "      <td>(wearing, mask)</td>\n",
       "      <td>18</td>\n",
       "    </tr>\n",
       "    <tr>\n",
       "      <th>10</th>\n",
       "      <td>(rather, trust)</td>\n",
       "      <td>17</td>\n",
       "    </tr>\n",
       "    <tr>\n",
       "      <th>11</th>\n",
       "      <td>(trust, pandemic)</td>\n",
       "      <td>17</td>\n",
       "    </tr>\n",
       "    <tr>\n",
       "      <th>12</th>\n",
       "      <td>(pandemic, trump)</td>\n",
       "      <td>17</td>\n",
       "    </tr>\n",
       "    <tr>\n",
       "      <th>13</th>\n",
       "      <td>(international, students)</td>\n",
       "      <td>17</td>\n",
       "    </tr>\n",
       "    <tr>\n",
       "      <th>14</th>\n",
       "      <td>(wash, hands)</td>\n",
       "      <td>16</td>\n",
       "    </tr>\n",
       "    <tr>\n",
       "      <th>15</th>\n",
       "      <td>(first, 900)</td>\n",
       "      <td>15</td>\n",
       "    </tr>\n",
       "    <tr>\n",
       "      <th>16</th>\n",
       "      <td>(900, people)</td>\n",
       "      <td>15</td>\n",
       "    </tr>\n",
       "    <tr>\n",
       "      <th>17</th>\n",
       "      <td>(rule, would)</td>\n",
       "      <td>15</td>\n",
       "    </tr>\n",
       "    <tr>\n",
       "      <th>18</th>\n",
       "      <td>(would, required)</td>\n",
       "      <td>15</td>\n",
       "    </tr>\n",
       "    <tr>\n",
       "      <th>19</th>\n",
       "      <td>(face, covering)</td>\n",
       "      <td>14</td>\n",
       "    </tr>\n",
       "    <tr>\n",
       "      <th>20</th>\n",
       "      <td>(retweet, 300)</td>\n",
       "      <td>14</td>\n",
       "    </tr>\n",
       "    <tr>\n",
       "      <th>21</th>\n",
       "      <td>(1500, cas)</td>\n",
       "      <td>14</td>\n",
       "    </tr>\n",
       "    <tr>\n",
       "      <th>22</th>\n",
       "      <td>(rescinded, rule)</td>\n",
       "      <td>14</td>\n",
       "    </tr>\n",
       "    <tr>\n",
       "      <th>23</th>\n",
       "      <td>(required, international)</td>\n",
       "      <td>14</td>\n",
       "    </tr>\n",
       "    <tr>\n",
       "      <th>24</th>\n",
       "      <td>(300, 1500)</td>\n",
       "      <td>13</td>\n",
       "    </tr>\n",
       "    <tr>\n",
       "      <th>25</th>\n",
       "      <td>(administration, already)</td>\n",
       "      <td>12</td>\n",
       "    </tr>\n",
       "    <tr>\n",
       "      <th>26</th>\n",
       "      <td>(face, masks)</td>\n",
       "      <td>12</td>\n",
       "    </tr>\n",
       "    <tr>\n",
       "      <th>27</th>\n",
       "      <td>(new, cases)</td>\n",
       "      <td>12</td>\n",
       "    </tr>\n",
       "    <tr>\n",
       "      <th>28</th>\n",
       "      <td>(administration, rescinded)</td>\n",
       "      <td>12</td>\n",
       "    </tr>\n",
       "    <tr>\n",
       "      <th>29</th>\n",
       "      <td>(trump, admin)</td>\n",
       "      <td>11</td>\n",
       "    </tr>\n",
       "    <tr>\n",
       "      <th>30</th>\n",
       "      <td>(wear, face)</td>\n",
       "      <td>11</td>\n",
       "    </tr>\n",
       "    <tr>\n",
       "      <th>31</th>\n",
       "      <td>(get, tested)</td>\n",
       "      <td>11</td>\n",
       "    </tr>\n",
       "    <tr>\n",
       "      <th>32</th>\n",
       "      <td>(social, distancing)</td>\n",
       "      <td>11</td>\n",
       "    </tr>\n",
       "    <tr>\n",
       "      <th>33</th>\n",
       "      <td>(united, states)</td>\n",
       "      <td>10</td>\n",
       "    </tr>\n",
       "    <tr>\n",
       "      <th>34</th>\n",
       "      <td>(wear, masks)</td>\n",
       "      <td>9</td>\n",
       "    </tr>\n",
       "    <tr>\n",
       "      <th>35</th>\n",
       "      <td>(wearing, masks)</td>\n",
       "      <td>9</td>\n",
       "    </tr>\n",
       "    <tr>\n",
       "      <th>36</th>\n",
       "      <td>(cure, treatment)</td>\n",
       "      <td>9</td>\n",
       "    </tr>\n",
       "    <tr>\n",
       "      <th>37</th>\n",
       "      <td>(treatment, solution)</td>\n",
       "      <td>9</td>\n",
       "    </tr>\n",
       "    <tr>\n",
       "      <th>38</th>\n",
       "      <td>(solution, possiblecovid2019)</td>\n",
       "      <td>9</td>\n",
       "    </tr>\n",
       "    <tr>\n",
       "      <th>39</th>\n",
       "      <td>(many, people)</td>\n",
       "      <td>9</td>\n",
       "    </tr>\n",
       "  </tbody>\n",
       "</table>\n",
       "</div>"
      ],
      "text/plain": [
       "                           bigram  count\n",
       "0                    (wear, mask)     33\n",
       "1         (trump, administration)     32\n",
       "2                  (people, like)     28\n",
       "3                      (due, aka)     26\n",
       "4                 (like, retweet)     26\n",
       "5                (sending, first)     24\n",
       "6                  (ill, sending)     23\n",
       "7                      (aka, ill)     20\n",
       "8                 (would, rather)     19\n",
       "9                 (wearing, mask)     18\n",
       "10                (rather, trust)     17\n",
       "11              (trust, pandemic)     17\n",
       "12              (pandemic, trump)     17\n",
       "13      (international, students)     17\n",
       "14                  (wash, hands)     16\n",
       "15                   (first, 900)     15\n",
       "16                  (900, people)     15\n",
       "17                  (rule, would)     15\n",
       "18              (would, required)     15\n",
       "19               (face, covering)     14\n",
       "20                 (retweet, 300)     14\n",
       "21                    (1500, cas)     14\n",
       "22              (rescinded, rule)     14\n",
       "23      (required, international)     14\n",
       "24                    (300, 1500)     13\n",
       "25      (administration, already)     12\n",
       "26                  (face, masks)     12\n",
       "27                   (new, cases)     12\n",
       "28    (administration, rescinded)     12\n",
       "29                 (trump, admin)     11\n",
       "30                   (wear, face)     11\n",
       "31                  (get, tested)     11\n",
       "32           (social, distancing)     11\n",
       "33               (united, states)     10\n",
       "34                  (wear, masks)      9\n",
       "35               (wearing, masks)      9\n",
       "36              (cure, treatment)      9\n",
       "37          (treatment, solution)      9\n",
       "38  (solution, possiblecovid2019)      9\n",
       "39                 (many, people)      9"
      ]
     },
     "execution_count": 23,
     "metadata": {},
     "output_type": "execute_result"
    }
   ],
   "source": [
    "## creating dataframe of most common bigrams\n",
    "bigram_df = pd.DataFrame(bigram_counts.most_common(40),\n",
    "columns=['bigram', 'count'])\n",
    "bigram_df"
   ]
  },
  {
   "cell_type": "code",
   "execution_count": null,
   "metadata": {},
   "outputs": [
    {
     "name": "stderr",
     "output_type": "stream",
     "text": [
      "/home/aakanksha/.local/lib/python3.6/site-packages/matplotlib/pyplot.py:522: RuntimeWarning: More than 20 figures have been opened. Figures created through the pyplot interface (`matplotlib.pyplot.figure`) are retained until explicitly closed and may consume too much memory. (To control this warning, see the rcParam `figure.max_open_warning`).\n",
      "  max_open_warning, RuntimeWarning)\n"
     ]
    },
    {
     "data": {
      "image/png": "[encoded data removed]",
      "text/plain": [
       "<Figure size 900x720 with 1 Axes>"
      ]
     },
     "metadata": {
      "needs_background": "light"
     },
     "output_type": "display_data"
    },
    {
     "data": {
      "image/png": "[encoded data removed]",
      "text/plain": [
       "<Figure size 900x720 with 1 Axes>"
      ]
     },
     "metadata": {
      "needs_background": "light"
     },
     "output_type": "display_data"
    },
    {
     "data": {
      "image/png": "[encoded data removed]",
      "text/plain": [
       "<Figure size 900x720 with 1 Axes>"
      ]
     },
     "metadata": {
      "needs_background": "light"
     },
     "output_type": "display_data"
    },
    {
     "data": {
      "image/png": "[encoded data removed]",
      "text/plain": [
       "<Figure size 900x720 with 1 Axes>"
      ]
     },
     "metadata": {
      "needs_background": "light"
     },
     "output_type": "display_data"
    },
    {
     "data": {
      "image/png": "[encoded data removed]",
      "text/plain": [
       "<Figure size 900x720 with 1 Axes>"
      ]
     },
     "metadata": {
      "needs_background": "light"
     },
     "output_type": "display_data"
    },
    {
     "data": {
      "image/png": "[encoded data removed]",
      "text/plain": [
       "<Figure size 900x720 with 1 Axes>"
      ]
     },
     "metadata": {
      "needs_background": "light"
     },
     "output_type": "display_data"
    },
    {
     "data": {
      "image/png": "[encoded data removed]",
      "text/plain": [
       "<Figure size 900x720 with 1 Axes>"
      ]
     },
     "metadata": {
      "needs_background": "light"
     },
     "output_type": "display_data"
    },
    {
     "data": {
      "image/png": "[encoded data removed]",
      "text/plain": [
       "<Figure size 900x720 with 1 Axes>"
      ]
     },
     "metadata": {
      "needs_background": "light"
     },
     "output_type": "display_data"
    },
    {
     "data": {
      "image/png": "[encoded data removed]",
      "text/plain": [
       "<Figure size 900x720 with 1 Axes>"
      ]
     },
     "metadata": {
      "needs_background": "light"
     },
     "output_type": "display_data"
    }
   ],
   "source": [
    " ## Plotting network of most common bigrams\n",
    "import networkx as nx\n",
    "# Create dictionary of bigrams and their counts\n",
    "d = bigram_df.set_index('bigram').T.to_dict('records')\n",
    "# Create network plot\n",
    "G = nx.Graph()\n",
    "# Create connections between nodes\n",
    "for k, v in d[0].items():\n",
    "    k\n",
    "    G.add_edge(k[0], k[1], weight=(v * 10))\n",
    "    fig, ax = plt.subplots(figsize=(12.5, 10))\n",
    "    pos = nx.spring_layout(G, k=1)\n",
    "# Plot networks\n",
    "nx.draw_networkx(G, pos,\n",
    "    font_size=12,\n",
    "    width=1,\n",
    "    edge_color='grey',\n",
    "    node_color='grey',\n",
    "    with_labels = False,\n",
    "    ax=ax)\n",
    "# Create offset labels\n",
    "for key, value in pos.items():\n",
    "    \n",
    "    x, y = value[0]+.135, value[1]+.045\n",
    "    ax.text(x, y,\n",
    "            s=key,\n",
    "            bbox=dict(facecolor='blue', alpha=0.2),\n",
    "            horizontalalignment='center', fontsize=13)\n",
    "plt.show()"
   ]
  },
  {
   "cell_type": "code",
   "execution_count": null,
   "metadata": {},
   "outputs": [],
   "source": [
    "tweets = tw.Cursor(api.search,\n",
    "q=search_term,\n",
    "lang=\"en\",\n",
    "since='2020-05-27').items(500)\n",
    "users_locs = [[tweet.user.screen_name, tweet.user.location] for tweet in tweets]"
   ]
  },
  {
   "cell_type": "code",
   "execution_count": null,
   "metadata": {},
   "outputs": [],
   "source": [
    "users_locs[:5]"
   ]
  },
  {
   "cell_type": "code",
   "execution_count": null,
   "metadata": {},
   "outputs": [],
   "source": [
    "## Creating dataframe of handles and user-defined locations\n",
    "users_locs_df = pd.DataFrame(data=users_locs, columns=('users', 'locations'))\n",
    "users_locs_df.head(20)"
   ]
  },
  {
   "cell_type": "code",
   "execution_count": null,
   "metadata": {},
   "outputs": [],
   "source": [
    "## Replacing blanks with NaN vals\n",
    "users_locs_df = users_locs_df.replace('',np.nan)\n",
    "users_locs_df.head(20)"
   ]
  },
  {
   "cell_type": "code",
   "execution_count": null,
   "metadata": {},
   "outputs": [],
   "source": [
    "## Dropping NaN rows\n",
    "users_locs_df = users_locs_df.dropna()\n",
    "users_locs_df.head(20)"
   ]
  },
  {
   "cell_type": "code",
   "execution_count": null,
   "metadata": {},
   "outputs": [],
   "source": [
    "len(users_locs_df)"
   ]
  },
  {
   "cell_type": "code",
   "execution_count": null,
   "metadata": {},
   "outputs": [],
   "source": [
    "from wordcloud import WordCloud\n",
    "## turning list of locs into one big string and visualising location counts as →WordCloud\n",
    "all_locs_string = ' '.join(users_locs_df['locations'].tolist())\n",
    "from wordcloud import WordCloud\n",
    "word_cloud = WordCloud(width=1000, height=600).generate(all_locs_string)\n",
    "plt.figure(figsize=(15,15))\n",
    "plt.imshow(word_cloud, interpolation='bilinear')"
   ]
  },
  {
   "cell_type": "code",
   "execution_count": null,
   "metadata": {},
   "outputs": [],
   "source": [
    " ## determining most popular tweet based on count of retweets\n",
    "tweets = tw.Cursor(api.search,\n",
    "q=search_term,\n",
    "lang=\"en\",\n",
    "since='2020-02-24').items(500)\n",
    "users_locs_rts = [[tweet.user.screen_name, tweet.user.location, tweet.retweet_count, tweet.created_at, tweet.text] for tweet in tweets]\n",
    "users_locs_rts[:5]"
   ]
  },
  {
   "cell_type": "code",
   "execution_count": null,
   "metadata": {},
   "outputs": [],
   "source": [
    "## Creating dataframe with attributes including retweets and timestamp\n",
    "users_locs_rts_df = pd.DataFrame(data=users_locs_rts, columns=('user','location', 'retweets', 'time', 'tweet'))\n",
    "users_locs_rts_df.head(20)"
   ]
  },
  {
   "cell_type": "code",
   "execution_count": null,
   "metadata": {},
   "outputs": [],
   "source": [
    " ## Sorting to see most popular tweets\n",
    "users_locs_rts_df.sort_values('retweets', ascending=False)"
   ]
  },
  {
   "cell_type": "code",
   "execution_count": null,
   "metadata": {},
   "outputs": [],
   "source": [
    " # Determining timeframe over which the 500 most recent COVID-19 tweets have been posted\n",
    "# firstly the earliest tweet\n",
    "users_locs_rts_df['time']"
   ]
  },
  {
   "cell_type": "code",
   "execution_count": null,
   "metadata": {},
   "outputs": [],
   "source": [
    " # last tweet\n",
    "users_locs_rts_df['time']"
   ]
  },
  {
   "cell_type": "code",
   "execution_count": null,
   "metadata": {},
   "outputs": [],
   "source": [
    "# 35 seconds\n",
    "# Taking a more detailed look at the rate of COVID-19 related tweets using a groupby\n",
    "users_locs_rts_df.groupby('time').count().sort_values('user')"
   ]
  },
  {
   "cell_type": "code",
   "execution_count": null,
   "metadata": {},
   "outputs": [],
   "source": []
  }
 ],
 "metadata": {
  "kernelspec": {
   "display_name": "Python 3",
   "language": "python",
   "name": "python3"
  },
  "language_info": {
   "codemirror_mode": {
    "name": "ipython",
    "version": 3
   },
   "file_extension": ".py",
   "mimetype": "text/x-python",
   "name": "python",
   "nbconvert_exporter": "python",
   "pygments_lexer": "ipython3",
   "version": "3.6.9"
  }
 },
 "nbformat": 4,
 "nbformat_minor": 2
}
